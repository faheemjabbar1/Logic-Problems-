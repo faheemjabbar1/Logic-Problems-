{
 "cells": [
  {
   "cell_type": "markdown",
   "id": "278c4fb2",
   "metadata": {},
   "source": [
    "#Convert Faranhite to Ceclius"
   ]
  },
  {
   "cell_type": "code",
   "execution_count": 1,
   "id": "a3aa90ab",
   "metadata": {},
   "outputs": [
    {
     "name": "stdout",
     "output_type": "stream",
     "text": [
      "The given Temprature in Celcius is:  48.888888888888886\n"
     ]
    }
   ],
   "source": [
    "Faranhite = float(input(\"Give Temprature in Faranhite: \"))\n",
    "\n",
    "Celcius = (Faranhite - 32) * 5.0/9.0\n",
    "print(\"The given Temprature in Celcius is: \", Celcius)"
   ]
  },
  {
   "cell_type": "markdown",
   "id": "b35d0603",
   "metadata": {},
   "source": [
    "#Finding Factorial of the Number Throught the Simple for loop"
   ]
  },
  {
   "cell_type": "code",
   "execution_count": 10,
   "id": "0b5b67fb",
   "metadata": {},
   "outputs": [
    {
     "name": "stdout",
     "output_type": "stream",
     "text": [
      "Sorry the Number is Negitive and Factorial does not exist\n"
     ]
    }
   ],
   "source": [
    "Num = int(input(\"Enter the Number whose factorial you want: \"))\n",
    "if Num < 0:\n",
    "    print(\"Sorry the Number is Negitive and Factorial does not exist\")\n",
    "elif Num == 0:\n",
    "    print(\"The factorial of 0 is 1\")\n",
    "else: \n",
    "    factorial = 1\n",
    "    for i in range (1, Num + 1):\n",
    "        factorial = factorial * i\n",
    "        print(\"The Factorial of number\", Num, \"is:\", factorial)"
   ]
  },
  {
   "cell_type": "markdown",
   "id": "f1d3d109",
   "metadata": {},
   "source": [
    "##Finding Factorial of the Number using recursio\n",
    "\n",
    "So first we define the number as the factorail is the fuction of (n) and then the if the condition is satisfied that number == 1, the base line is reached and the recusion line is genereated."
   ]
  },
  {
   "cell_type": "code",
   "execution_count": 11,
   "id": "2971515e",
   "metadata": {},
   "outputs": [
    {
     "name": "stdout",
     "output_type": "stream",
     "text": [
      "The factorial of 5 is: 120\n"
     ]
    }
   ],
   "source": [
    "def factorial(n):\n",
    "    if n == 0 or n == 1:\n",
    "        return 1\n",
    "    else:\n",
    "        return n * factorial(n - 1)\n",
    "\n",
    "num = int(input(\"Enter a number to find its factorial: \"))\n",
    "result = factorial(num)\n",
    "print(f\"The factorial of {num} is: {result}\")"
   ]
  },
  {
   "cell_type": "markdown",
   "id": "40fc343a",
   "metadata": {},
   "source": [
    "Table using for loop"
   ]
  },
  {
   "cell_type": "code",
   "execution_count": 14,
   "id": "a86e6700",
   "metadata": {},
   "outputs": [
    {
     "name": "stdout",
     "output_type": "stream",
     "text": [
      "47 x 1 = 47\n",
      "47 x 2 = 94\n",
      "47 x 3 = 141\n",
      "47 x 4 = 188\n",
      "47 x 5 = 235\n",
      "47 x 6 = 282\n",
      "47 x 7 = 329\n",
      "47 x 8 = 376\n",
      "47 x 9 = 423\n",
      "47 x 10 = 470\n"
     ]
    }
   ],
   "source": [
    "num = int(input(\"Enter the Number whose factorial you want: \"))\n",
    "for i in range(1, 11):\n",
    "    print(num, \"x\", i, \"=\", num * i)"
   ]
  },
  {
   "cell_type": "markdown",
   "id": "65ca114c",
   "metadata": {},
   "source": [
    "Table using the While loop"
   ]
  },
  {
   "cell_type": "code",
   "execution_count": 19,
   "id": "0d67f13d",
   "metadata": {},
   "outputs": [
    {
     "name": "stdout",
     "output_type": "stream",
     "text": [
      "3 x 1 = 3\n",
      "3 x 2 = 6\n",
      "3 x 3 = 9\n",
      "3 x 4 = 12\n",
      "3 x 5 = 15\n",
      "3 x 6 = 18\n",
      "3 x 7 = 21\n",
      "3 x 8 = 24\n",
      "3 x 9 = 27\n",
      "3 x 10 = 30\n"
     ]
    }
   ],
   "source": [
    "num = int(input(\"Enter the Number whose table you want: \"))\n",
    "i = 1\n",
    "while i <= 10:\n",
    "    print(num, \"x\", i, \"=\", num * i)\n",
    "    i += 1"
   ]
  },
  {
   "cell_type": "code",
   "execution_count": 25,
   "id": "b96d49e7",
   "metadata": {},
   "outputs": [
    {
     "name": "stdout",
     "output_type": "stream",
     "text": [
      "0\n",
      "1\n",
      "1\n",
      "2\n",
      "3\n",
      "5\n",
      "8\n"
     ]
    }
   ],
   "source": [
    "a= 0\n",
    "b = 1\n",
    "\n",
    "n = int(input(\"Enter the Number here: \"))\n",
    "if n == 1:\n",
    "    print(a)\n",
    "else:\n",
    "    print(a)\n",
    "    print(b)\n",
    "for i in range(2,n):\n",
    "    c = a + b\n",
    "    a = b\n",
    "    b = c\n",
    "    print(c)\n",
    "\n"
   ]
  },
  {
   "cell_type": "markdown",
   "id": "c90433fa",
   "metadata": {},
   "source": [
    "To Find if the number is an Armstrong Number"
   ]
  },
  {
   "cell_type": "code",
   "execution_count": 27,
   "id": "6088a855",
   "metadata": {},
   "outputs": [
    {
     "name": "stdout",
     "output_type": "stream",
     "text": [
      "153 is an armstrong number\n"
     ]
    }
   ],
   "source": [
    "num = int(input(\"Enter a number Here: \"))\n",
    "\n",
    "sum = 0\n",
    "temp = num\n",
    "\n",
    "while temp >0:\n",
    "    digit = temp % 10\n",
    "    sum += digit ** 3\n",
    "    temp //= 10\n",
    "if num == sum:\n",
    "    print(num, \"is an armstrong number\")\n",
    "else:\n",
    "    print(num, \"is not an armstrong number\")\n"
   ]
  },
  {
   "cell_type": "markdown",
   "id": "5e5fed01",
   "metadata": {},
   "source": [
    "Find Armstrong Number in Interval"
   ]
  },
  {
   "cell_type": "code",
   "execution_count": 48,
   "id": "38117527",
   "metadata": {},
   "outputs": [
    {
     "name": "stdout",
     "output_type": "stream",
     "text": [
      "1634 is an armstrong number\n"
     ]
    }
   ],
   "source": [
    "Lower = int(input(\"Enter the Lower Limit Here: \"))\n",
    "Upper = int(input(\"Enter the Upper Limit Here: \"))\n",
    "\n",
    "\n",
    "for num in range(Lower, Upper + 1):\n",
    "    order = len(str(num))\n",
    "    sum = 0\n",
    "    temp = num\n",
    "    while temp > 0:\n",
    "        digit = temp % 10\n",
    "        sum += digit ** order\n",
    "        temp //= 10\n",
    "\n",
    "    if num == sum:\n",
    "        print(num, \"is an armstrong number\")\n"
   ]
  },
  {
   "cell_type": "code",
   "execution_count": 1,
   "id": "9079bde5",
   "metadata": {},
   "outputs": [
    {
     "name": "stdout",
     "output_type": "stream",
     "text": [
      "A is a Vowel\n"
     ]
    }
   ],
   "source": [
    "Alphabet = input(\"Enter the Alphabet Here: \")\n",
    "if (Alphabet >= 'a' and Alphabet <= 'z') or (Alphabet >= 'A' and Alphabet <= 'Z'):\n",
    "    if (Alphabet == 'a' or Alphabet == 'e' or Alphabet == 'i' or Alphabet == 'o' or Alphabet == 'u' or Alphabet == 'A' or Alphabet == 'E' or Alphabet == 'I' or Alphabet == 'O' or Alphabet == 'U'):\n",
    "        print(Alphabet, \"is a Vowel\")\n",
    "    else:\n",
    "        print(Alphabet, \"is a Consonant\")"
   ]
  },
  {
   "cell_type": "code",
   "execution_count": 2,
   "id": "fd8ba528",
   "metadata": {},
   "outputs": [
    {
     "name": "stdout",
     "output_type": "stream",
     "text": [
      "a is a Vowel\n"
     ]
    }
   ],
   "source": [
    "Alphabet = input(\"Enter the Alphabet Here: \")\n",
    "\n",
    "if (Alphabet.isalpha() and len(Alphabet) == 1):\n",
    "    if Alphabet in 'aeiouAEIOU':\n",
    "        print(Alphabet, \"is a Vowel\")\n",
    "    else:\n",
    "        print(Alphabet, \"is a Consonant\")"
   ]
  },
  {
   "cell_type": "code",
   "execution_count": 6,
   "id": "71dbd34c",
   "metadata": {},
   "outputs": [
    {
     "name": "stdout",
     "output_type": "stream",
     "text": [
      "2078410 is divisible by 5\n"
     ]
    }
   ],
   "source": [
    "num = int(input(\"Enter the Number Here: \"))\n",
    "\n",
    "if num % 5 ==0:\n",
    "    print(num, \"is divisible by 5\")\n",
    "else:\n",
    "    print(num, \"is not divisible by 5\")"
   ]
  },
  {
   "cell_type": "code",
   "execution_count": 8,
   "id": "e80ad595",
   "metadata": {},
   "outputs": [
    {
     "name": "stdout",
     "output_type": "stream",
     "text": [
      "1\n",
      "2\n",
      "3\n",
      "4\n",
      "5\n",
      "6\n",
      "7\n",
      "8\n",
      "9\n",
      "10\n"
     ]
    }
   ],
   "source": [
    "for i in range(1,11):\n",
    "    print(i)"
   ]
  },
  {
   "cell_type": "code",
   "execution_count": null,
   "id": "83274f76",
   "metadata": {},
   "outputs": [],
   "source": [
    "for i in range(1,101):\n",
    "    if i % 2 ==0:\n",
    "        print(i)"
   ]
  },
  {
   "cell_type": "code",
   "execution_count": null,
   "id": "09f6d51e",
   "metadata": {},
   "outputs": [],
   "source": [
    "for i in range(1,101):\n",
    "    if i % 2 ==1:\n",
    "        print(i)"
   ]
  },
  {
   "cell_type": "code",
   "execution_count": null,
   "id": "39febd9e",
   "metadata": {},
   "outputs": [],
   "source": []
  }
 ],
 "metadata": {
  "kernelspec": {
   "display_name": "base",
   "language": "python",
   "name": "python3"
  },
  "language_info": {
   "codemirror_mode": {
    "name": "ipython",
    "version": 3
   },
   "file_extension": ".py",
   "mimetype": "text/x-python",
   "name": "python",
   "nbconvert_exporter": "python",
   "pygments_lexer": "ipython3",
   "version": "3.13.5"
  }
 },
 "nbformat": 4,
 "nbformat_minor": 5
}
