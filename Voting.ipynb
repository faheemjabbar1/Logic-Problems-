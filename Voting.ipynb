{
 "cells": [
  {
   "cell_type": "code",
   "execution_count": 9,
   "id": "f2bf5a56",
   "metadata": {},
   "outputs": [
    {
     "name": "stdout",
     "output_type": "stream",
     "text": [
      "Mr Faheem 18.0 Years Old and Citizen of Japan is not eligible to vote\n"
     ]
    }
   ],
   "source": [
    "Name = input(\"Enter your Name: \")\n",
    "Age = float(input(\"Enter your Age: \"))\n",
    "Country = input(\"Enter the Name of your country: \")\n",
    "DualCitizenship = input(\"Do you have dual citizenship? (yes/no): \").strip().lower()\n",
    "\n",
    "if Age >= 18 and Age <= 65 and Country == \"USA\" and DualCitizenship == \"no\":\n",
    "    print(\"Mr\", Name, Age, \"Years Old and Citizen of\", Country, \"is eligible to vote\")\n",
    "elif Age >= 20 and Age <= 65 and Country == \"Japan\" and DualCitizenship == \"no\":\n",
    "    print(\"Mr\", Name, Age, \"Years Old and Citizen of\", Country, \"is eligible to vote\")\n",
    "else:\n",
    "    print(\"Mr\", Name, Age, \"Years Old and Citizen of\", Country, \"is not eligible to vote\")"
   ]
  },
  {
   "cell_type": "code",
   "execution_count": null,
   "id": "59f9c8d3",
   "metadata": {},
   "outputs": [],
   "source": []
  }
 ],
 "metadata": {
  "kernelspec": {
   "display_name": "base",
   "language": "python",
   "name": "python3"
  },
  "language_info": {
   "codemirror_mode": {
    "name": "ipython",
    "version": 3
   },
   "file_extension": ".py",
   "mimetype": "text/x-python",
   "name": "python",
   "nbconvert_exporter": "python",
   "pygments_lexer": "ipython3",
   "version": "3.13.5"
  }
 },
 "nbformat": 4,
 "nbformat_minor": 5
}
